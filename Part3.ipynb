{
 "cells": [
  {
   "cell_type": "code",
   "execution_count": 1,
   "metadata": {},
   "outputs": [
    {
     "name": "stderr",
     "output_type": "stream",
     "text": [
      "Using TensorFlow backend.\n"
     ]
    }
   ],
   "source": [
    "import numpy as np\n",
    "import pandas as  pd \n",
    "import matplotlib.pyplot as plt\n",
    "import import_ipynb\n",
    "from keras.models import Sequential\n",
    "from keras.layers import Dense\n",
    "from sklearn.model_selection import train_test_split\n",
    "from keras.utils import to_categorical\n",
    "from keras.layers import Dense, Dropout\n",
    "import keras"
   ]
  },
  {
   "cell_type": "code",
   "execution_count": 2,
   "metadata": {},
   "outputs": [
    {
     "name": "stdout",
     "output_type": "stream",
     "text": [
      "importing Jupyter notebook from Part1.ipynb\n"
     ]
    }
   ],
   "source": [
    "import Part1\n",
    "from Part1 import df\n"
   ]
  },
  {
   "cell_type": "code",
   "execution_count": 26,
   "metadata": {},
   "outputs": [],
   "source": [
    "class loggingCallback(keras.callbacks.Callback):\n",
    "    def on_train_begin(self, logs={}):\n",
    "        self.biases = []\n",
    "        self.w1 = []\n",
    "        self.w2 = []\n",
    "        self.w3 = []\n",
    "        self.weights = []\n",
    "\n",
    "    def on_epoch_end(self, batch, logs={}):\n",
    "        #biases in 1. 0 for CYT class\n",
    "        biases = model.layers[2].get_weights()[1][0]\n",
    "        #this node to 0 in next layer for CYT Class\n",
    "        w1 = model.layers[2].get_weights()[0][0][0]\n",
    "        w2 = model.layers[2].get_weights()[0][1][0]\n",
    "        w3 = model.layers[2].get_weights()[0][2][0]\n",
    "        this_weights = model.get_weights()\n",
    "        self.weights.append(this_weights)\n",
    "        self.biases.append(biases)\n",
    "        self.w1.append(w1)\n",
    "        self.w2.append(w2)\n",
    "        self.w3.append(w3)\n",
    "        \n",
    "my_loggingCallback = loggingCallback()"
   ]
  },
  {
   "cell_type": "code",
   "execution_count": 27,
   "metadata": {},
   "outputs": [],
   "source": [
    "def model(): \n",
    "    model = Sequential([\n",
    "        Dense(3, activation='sigmoid', input_shape=(8,), name=\"hidden1\", use_bias=True),\n",
    "        Dense(3, activation='sigmoid', use_bias=True, name=\"hidden2\"),\n",
    "        Dense(10, activation='sigmoid', use_bias=True, name=\"output\"),\n",
    "    ])\n",
    "    sgd = keras.optimizers.SGD(lr=0.01)\n",
    "    model.compile(\n",
    "      optimizer=sgd,\n",
    "      loss='mean_squared_error',\n",
    "      metrics=['accuracy'],\n",
    "    )\n",
    "    return model\n",
    "model = model()"
   ]
  },
  {
   "cell_type": "code",
   "execution_count": 34,
   "metadata": {},
   "outputs": [],
   "source": [
    "df_copy = df.drop([\"class\", \"outlier\", \"outlier2\", \"outComb\"],axis=1)\n",
    "total = df_copy.values\n",
    "np.random.shuffle(total)\n",
    "Y_all = total[:,8]\n",
    "X_all = total[:,0:8]\n",
    "Y_all = np.reshape(Y_all, (1484,1))\n",
    "Y_all = Y_all - 1\n"
   ]
  },
  {
   "cell_type": "code",
   "execution_count": 65,
   "metadata": {},
   "outputs": [
    {
     "name": "stdout",
     "output_type": "stream",
     "text": [
      "Train on 1484 samples, validate on 1484 samples\n",
      "Epoch 1/2\n",
      "Epoch 2/2\n"
     ]
    }
   ],
   "source": [
    "my_loggingCallback = loggingCallback()\n",
    "#Using same model \n",
    "history = model.fit(\n",
    "    x=X_all,\n",
    "    y=to_categorical(Y_all, num_classes= 10),\n",
    "    epochs=2,\n",
    "    batch_size=1,\n",
    "    validation_split=0,\n",
    "    validation_data=(X_all,to_categorical(Y_all, num_classes= 10)),\n",
    "    verbose=.1,\n",
    "    callbacks=[my_loggingCallback]\n",
    ")"
   ]
  },
  {
   "cell_type": "code",
   "execution_count": 66,
   "metadata": {},
   "outputs": [
    {
     "name": "stdout",
     "output_type": "stream",
     "text": [
      "1484/1484 [==============================] - 0s 45us/step\n"
     ]
    },
    {
     "data": {
      "text/plain": [
       "[0.07777829594769568, 0.31199461221694946]"
      ]
     },
     "execution_count": 66,
     "metadata": {},
     "output_type": "execute_result"
    }
   ],
   "source": [
    "#Training Error\n",
    "model.evaluate(\n",
    "  X_all,\n",
    "  to_categorical(Y_all,num_classes= 10)\n",
    ")"
   ]
  },
  {
   "cell_type": "code",
   "execution_count": null,
   "metadata": {},
   "outputs": [],
   "source": []
  },
  {
   "cell_type": "code",
   "execution_count": 75,
   "metadata": {},
   "outputs": [
    {
     "data": {
      "text/plain": [
       "<tf.Tensor 'output_1/Sigmoid:0' shape=(None, 10) dtype=float32>"
      ]
     },
     "execution_count": 75,
     "metadata": {},
     "output_type": "execute_result"
    }
   ],
   "source": [
    "model.layers[2].get_output_at(0)"
   ]
  },
  {
   "cell_type": "code",
   "execution_count": 81,
   "metadata": {},
   "outputs": [],
   "source": [
    "def sigmoid(x, derivative=False):\n",
    "    val = np.divide(1, 1+np.exp(-x))\n",
    "    return val\n",
    "\n",
    "def sigmoid_derivative(x):\n",
    "    val = x* (1-x)\n",
    "    return val\n"
   ]
  },
  {
   "cell_type": "code",
   "execution_count": 87,
   "metadata": {
    "collapsed": true
   },
   "outputs": [
    {
     "name": "stdout",
     "output_type": "stream",
     "text": [
      "[[ 0.6160523  -0.34510705 -0.5883763 ]\n",
      " [-0.29319003 -0.18177587  0.60907865]\n",
      " [-0.08259848  0.44190612  0.47213158]\n",
      " [ 0.29699922  0.7334618   0.35981753]\n",
      " [ 0.4009426   0.29636687  0.3134203 ]\n",
      " [ 0.5963915   0.2956808   0.7299677 ]\n",
      " [ 0.78103757 -0.53540343 -0.584953  ]\n",
      " [ 0.03120595  0.2955624   0.24524157]]\n",
      "======================\n",
      "[ 0.2959772   0.16951886 -0.16523151]\n",
      "======================\n",
      "[[-0.42060637  1.5417895   1.1542858 ]\n",
      " [ 1.0256164   0.52735746  0.95622677]\n",
      " [-0.6197083  -0.21812989 -0.02897272]]\n",
      "======================\n",
      "[0.21387012 1.0287982  0.2257589 ]\n",
      "======================\n",
      "[[-0.6797595   0.09523431  0.17885399 -0.17165105 -0.9313234   0.03920811\n",
      "  -0.90818894 -0.21169125 -0.5937906  -0.05909228]\n",
      " [ 0.40386438 -0.31254143 -0.83598006 -1.1911488  -1.2193332  -1.274206\n",
      "  -1.0704986  -0.92429745 -1.4152911  -1.4449817 ]\n",
      " [-0.5578001  -0.29706824 -0.27637768 -0.19109115 -0.47063872 -1.2301171\n",
      "  -0.59792686 -0.8559922  -0.4640113  -0.61358416]]\n",
      "======================\n",
      "[-0.32856092 -0.41588268 -0.7285214  -0.7550723  -1.1836303  -1.0895857\n",
      " -1.4025943  -1.7228734  -1.5208517  -1.7854253 ]\n",
      "======================\n"
     ]
    }
   ],
   "source": [
    "fWeights = my_loggingCallback.weights[0]\n",
    "for i in range(len(fWeights)):\n",
    "    print(fWeights[i])\n",
    "    print(\"======================\")"
   ]
  },
  {
   "cell_type": "code",
   "execution_count": 116,
   "metadata": {},
   "outputs": [
    {
     "data": {
      "text/plain": [
       "(8, 3)"
      ]
     },
     "execution_count": 116,
     "metadata": {},
     "output_type": "execute_result"
    }
   ],
   "source": [
    "#PART 4\n",
    "\n",
    "#Layer 1\n",
    "fWeights[0]\n",
    "a = np.array(fWeights[0]).reshape(3,8)\n",
    "at = np.transpose(a)\n",
    "at.shape"
   ]
  },
  {
   "cell_type": "code",
   "execution_count": 117,
   "metadata": {},
   "outputs": [],
   "source": [
    "Layer_1 = sigmoid(np.reshape(np.dot(X_all[0].reshape(1,8),at),[1,3]))"
   ]
  },
  {
   "cell_type": "code",
   "execution_count": 118,
   "metadata": {},
   "outputs": [
    {
     "data": {
      "text/plain": [
       "array([[0.4397827 , 0.80995431, 0.61077505]])"
      ]
     },
     "execution_count": 118,
     "metadata": {},
     "output_type": "execute_result"
    }
   ],
   "source": [
    "Layer_1"
   ]
  },
  {
   "cell_type": "code",
   "execution_count": 119,
   "metadata": {},
   "outputs": [
    {
     "data": {
      "text/plain": [
       "array([[ 0.6160523 , -0.34510705, -0.5883763 ],\n",
       "       [-0.29319003, -0.18177587,  0.60907865],\n",
       "       [-0.08259848,  0.44190612,  0.47213158],\n",
       "       [ 0.29699922,  0.7334618 ,  0.35981753],\n",
       "       [ 0.4009426 ,  0.29636687,  0.3134203 ],\n",
       "       [ 0.5963915 ,  0.2956808 ,  0.7299677 ],\n",
       "       [ 0.78103757, -0.53540343, -0.584953  ],\n",
       "       [ 0.03120595,  0.2955624 ,  0.24524157]], dtype=float32)"
      ]
     },
     "execution_count": 119,
     "metadata": {},
     "output_type": "execute_result"
    }
   ],
   "source": [
    "#Layer 2\n",
    "fWeights[0]"
   ]
  },
  {
   "cell_type": "code",
   "execution_count": null,
   "metadata": {},
   "outputs": [],
   "source": []
  },
  {
   "cell_type": "code",
   "execution_count": null,
   "metadata": {},
   "outputs": [],
   "source": []
  },
  {
   "cell_type": "code",
   "execution_count": null,
   "metadata": {},
   "outputs": [],
   "source": []
  }
 ],
 "metadata": {
  "kernelspec": {
   "display_name": "Python 3",
   "language": "python",
   "name": "python3"
  },
  "language_info": {
   "codemirror_mode": {
    "name": "ipython",
    "version": 3
   },
   "file_extension": ".py",
   "mimetype": "text/x-python",
   "name": "python",
   "nbconvert_exporter": "python",
   "pygments_lexer": "ipython3",
   "version": "3.7.4"
  }
 },
 "nbformat": 4,
 "nbformat_minor": 2
}
