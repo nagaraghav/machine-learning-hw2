{
 "cells": [
  {
   "cell_type": "code",
   "execution_count": 1,
   "metadata": {},
   "outputs": [
    {
     "name": "stderr",
     "output_type": "stream",
     "text": [
      "Using TensorFlow backend.\n"
     ]
    }
   ],
   "source": [
    "import numpy as np\n",
    "import pandas as  pd \n",
    "import matplotlib.pyplot as plt\n",
    "import import_ipynb\n",
    "from keras.models import Sequential\n",
    "from keras.layers import Dense\n",
    "from sklearn.model_selection import train_test_split\n",
    "from keras.utils import to_categorical\n",
    "from keras.layers import Dense, Dropout\n",
    "import keras"
   ]
  },
  {
   "cell_type": "code",
   "execution_count": 2,
   "metadata": {},
   "outputs": [
    {
     "name": "stdout",
     "output_type": "stream",
     "text": [
      "importing Jupyter notebook from Part1.ipynb\n"
     ]
    }
   ],
   "source": [
    "import Part1\n",
    "from Part1 import df"
   ]
  },
  {
   "cell_type": "code",
   "execution_count": 3,
   "metadata": {},
   "outputs": [],
   "source": [
    "df_copy = df.drop([\"class\", \"outlier\", \"outlier2\", \"outComb\"],axis=1)\n",
    "total = df_copy.values\n",
    "np.random.shuffle(total)\n",
    "Y_all = total[:,8]\n",
    "X_all = total[:,0:8]\n",
    "Y_all = np.reshape(Y_all, (1484,1))\n",
    "Y_all = Y_all -1\n"
   ]
  },
  {
   "cell_type": "code",
   "execution_count": 12,
   "metadata": {},
   "outputs": [],
   "source": [
    "def train_model(num_layers, num_nodes):\n",
    "\n",
    "    model = Sequential()\n",
    "    #First Hidden Layer\n",
    "    model.add(Dense(num_nodes, activation='relu', input_dim=8, use_bias=True)) \n",
    "\n",
    "    \n",
    "    for i in range(num_layers - 1):\n",
    "        model.add(Dense(num_nodes, activation='relu', use_bias=True))\n",
    "        \n",
    "    model.add(Dense(10, activation='softmax', use_bias=True))\n",
    "    sgd = keras.optimizers.SGD(lr=0.01)\n",
    "    model.compile(\n",
    "      optimizer=sgd,\n",
    "      loss='categorical_crossentropy',\n",
    "      metrics=['accuracy'],\n",
    "    )\n",
    "\n",
    "    return model\n"
   ]
  },
  {
   "cell_type": "code",
   "execution_count": 13,
   "metadata": {},
   "outputs": [],
   "source": [
    "def compute_grid(layers,nodes):\n",
    "    for i in layers:\n",
    "        for j in nodes:\n",
    "            model = train_model(i,j)\n",
    "            history = model.fit(x=X_all,\n",
    "                                y=to_categorical(Y_all, num_classes= 10),\n",
    "                                epochs=100,validation_split=0,\n",
    "                                batch_size=10,\n",
    "                                verbose=0,shuffle=0,\n",
    "                                validation_data=(X_all,\n",
    "                                                 to_categorical(Y_all, num_classes= 10)),)\n",
    "            result = model.evaluate(X_all,to_categorical(Y_all,num_classes= 10))\n",
    "            error = 1-result[1]\n",
    "            print(\"Testing error %f hidden layers and nodes %f is %f\" %(i,j,error*100))\n",
    "            \n",
    "            "
   ]
  },
  {
   "cell_type": "code",
   "execution_count": 14,
   "metadata": {
    "collapsed": true
   },
   "outputs": [
    {
     "name": "stdout",
     "output_type": "stream",
     "text": [
      "1484/1484 [==============================] - 0s 28us/step\n",
      "Testing error 1.000000 hidden layers and nodes 3.000000 is 51.010782\n",
      "1484/1484 [==============================] - 0s 25us/step\n",
      "Testing error 1.000000 hidden layers and nodes 6.000000 is 46.293801\n",
      "1484/1484 [==============================] - 0s 26us/step\n",
      "Testing error 1.000000 hidden layers and nodes 9.000000 is 43.867922\n",
      "1484/1484 [==============================] - 0s 28us/step\n",
      "Testing error 1.000000 hidden layers and nodes 12.000000 is 47.641510\n",
      "1484/1484 [==============================] - 0s 16us/step\n",
      "Testing error 2.000000 hidden layers and nodes 3.000000 is 55.256066\n",
      "1484/1484 [==============================] - 0s 18us/step\n",
      "Testing error 2.000000 hidden layers and nodes 6.000000 is 44.137466\n",
      "1484/1484 [==============================] - 0s 17us/step\n",
      "Testing error 2.000000 hidden layers and nodes 9.000000 is 45.552558\n",
      "1484/1484 [==============================] - 0s 27us/step\n",
      "Testing error 2.000000 hidden layers and nodes 12.000000 is 44.676548\n",
      "1484/1484 [==============================] - 0s 16us/step\n",
      "Testing error 3.000000 hidden layers and nodes 3.000000 is 57.345015\n",
      "1484/1484 [==============================] - 0s 19us/step\n",
      "Testing error 3.000000 hidden layers and nodes 6.000000 is 46.159029\n",
      "1484/1484 [==============================] - 0s 17us/step\n",
      "Testing error 3.000000 hidden layers and nodes 9.000000 is 45.417792\n",
      "1484/1484 [==============================] - 0s 20us/step\n",
      "Testing error 3.000000 hidden layers and nodes 12.000000 is 41.711593\n"
     ]
    }
   ],
   "source": [
    "layers = [1,2,3]\n",
    "nodes = [3,6,9,12]\n",
    "compute_grid(layers,nodes)"
   ]
  },
  {
   "cell_type": "code",
   "execution_count": null,
   "metadata": {},
   "outputs": [],
   "source": []
  },
  {
   "cell_type": "code",
   "execution_count": 15,
   "metadata": {},
   "outputs": [],
   "source": [
    "model = train_model(1,6)\n",
    "history = model.fit(x=X_all,\n",
    "                    y=to_categorical(Y_all, num_classes= 10),\n",
    "                    epochs=100,\n",
    "                    validation_split=0,\n",
    "                    batch_size=10,\n",
    "                    verbose=0,\n",
    "                    shuffle=0,\n",
    "                    validation_data=(X_all,to_categorical(Y_all, num_classes= 10)),)\n",
    "\n",
    "#PLOT train and test accuracy \n",
    "error = 1 - np.array(history.history['accuracy'])\n",
    "error_train = np.reshape(error, [len(error),1])\n",
    "error2 = 1 - np.array(history.history['val_accuracy'])\n",
    "error_test = np.reshape(error2, [len(error2),1])\n"
   ]
  },
  {
   "cell_type": "code",
   "execution_count": 16,
   "metadata": {},
   "outputs": [
    {
     "data": {
      "image/png": "[encoded data removed]",
      "text/plain": [
       "<Figure size 432x288 with 1 Axes>"
      ]
     },
     "metadata": {
      "needs_background": "light"
     },
     "output_type": "display_data"
    }
   ],
   "source": [
    "plt.plot(error_train)\n",
    "plt.plot(error_test)\n",
    "plt.title('Error vs. Epoch')\n",
    "plt.ylabel('Error')\n",
    "plt.xlabel('Epoch')\n",
    "plt.legend(['Train', 'Test'], loc='upper left')\n",
    "plt.show()"
   ]
  },
  {
   "cell_type": "code",
   "execution_count": 20,
   "metadata": {},
   "outputs": [
    {
     "data": {
      "text/plain": [
       "100"
      ]
     },
     "execution_count": 20,
     "metadata": {},
     "output_type": "execute_result"
    }
   ],
   "source": [
    "len(history.history[\"val_loss\"])"
   ]
  },
  {
   "cell_type": "code",
   "execution_count": null,
   "metadata": {},
   "outputs": [],
   "source": []
  }
 ],
 "metadata": {
  "kernelspec": {
   "display_name": "Python 3",
   "language": "python",
   "name": "python3"
  },
  "language_info": {
   "codemirror_mode": {
    "name": "ipython",
    "version": 3
   },
   "file_extension": ".py",
   "mimetype": "text/x-python",
   "name": "python",
   "nbconvert_exporter": "python",
   "pygments_lexer": "ipython3",
   "version": "3.7.4"
  }
 },
 "nbformat": 4,
 "nbformat_minor": 2
}
