{
 "cells": [
  {
   "cell_type": "code",
   "execution_count": 1,
   "metadata": {},
   "outputs": [
    {
     "name": "stderr",
     "output_type": "stream",
     "text": [
      "Using TensorFlow backend.\n"
     ]
    }
   ],
   "source": [
    "import numpy as np\n",
    "import pandas as  pd \n",
    "import matplotlib.pyplot as plt\n",
    "from keras.models import Sequential\n",
    "from keras.layers import Dense\n",
    "from sklearn.model_selection import train_test_split\n",
    "from keras.utils import to_categorical\n",
    "from keras.layers import Dense, Dropout\n",
    "import keras"
   ]
  },
  {
   "cell_type": "code",
   "execution_count": 2,
   "metadata": {},
   "outputs": [
    {
     "name": "stdout",
     "output_type": "stream",
     "text": [
      "importing Jupyter notebook from Part1.ipynb\n"
     ]
    }
   ],
   "source": [
    "import import_ipynb\n",
    "import Part1\n",
    "from Part1 import norm_df"
   ]
  },
  {
   "cell_type": "code",
   "execution_count": null,
   "metadata": {},
   "outputs": [],
   "source": []
  },
  {
   "cell_type": "code",
   "execution_count": 42,
   "metadata": {
    "collapsed": true
   },
   "outputs": [
    {
     "data": {
      "text/html": [
       "<div>\n",
       "<style scoped>\n",
       "    .dataframe tbody tr th:only-of-type {\n",
       "        vertical-align: middle;\n",
       "    }\n",
       "\n",
       "    .dataframe tbody tr th {\n",
       "        vertical-align: top;\n",
       "    }\n",
       "\n",
       "    .dataframe thead th {\n",
       "        text-align: right;\n",
       "    }\n",
       "</style>\n",
       "<table border=\"1\" class=\"dataframe\">\n",
       "  <thead>\n",
       "    <tr style=\"text-align: right;\">\n",
       "      <th></th>\n",
       "      <th>mcg</th>\n",
       "      <th>gvh</th>\n",
       "      <th>alm</th>\n",
       "      <th>mit</th>\n",
       "      <th>erl</th>\n",
       "      <th>pox</th>\n",
       "      <th>vac</th>\n",
       "      <th>nuc</th>\n",
       "      <th>class</th>\n",
       "      <th>classNum</th>\n",
       "      <th>outlier</th>\n",
       "      <th>outlier2</th>\n",
       "      <th>outComb</th>\n",
       "    </tr>\n",
       "  </thead>\n",
       "  <tbody>\n",
       "    <tr>\n",
       "      <td>0</td>\n",
       "      <td>0.58</td>\n",
       "      <td>0.61</td>\n",
       "      <td>0.47</td>\n",
       "      <td>0.13</td>\n",
       "      <td>0.5</td>\n",
       "      <td>0.0</td>\n",
       "      <td>0.48</td>\n",
       "      <td>0.22</td>\n",
       "      <td>MIT</td>\n",
       "      <td>3</td>\n",
       "      <td>1</td>\n",
       "      <td>1</td>\n",
       "      <td>2</td>\n",
       "    </tr>\n",
       "    <tr>\n",
       "      <td>1</td>\n",
       "      <td>0.43</td>\n",
       "      <td>0.67</td>\n",
       "      <td>0.48</td>\n",
       "      <td>0.27</td>\n",
       "      <td>0.5</td>\n",
       "      <td>0.0</td>\n",
       "      <td>0.53</td>\n",
       "      <td>0.22</td>\n",
       "      <td>MIT</td>\n",
       "      <td>3</td>\n",
       "      <td>1</td>\n",
       "      <td>1</td>\n",
       "      <td>2</td>\n",
       "    </tr>\n",
       "    <tr>\n",
       "      <td>2</td>\n",
       "      <td>0.64</td>\n",
       "      <td>0.62</td>\n",
       "      <td>0.49</td>\n",
       "      <td>0.15</td>\n",
       "      <td>0.5</td>\n",
       "      <td>0.0</td>\n",
       "      <td>0.53</td>\n",
       "      <td>0.22</td>\n",
       "      <td>MIT</td>\n",
       "      <td>3</td>\n",
       "      <td>1</td>\n",
       "      <td>1</td>\n",
       "      <td>2</td>\n",
       "    </tr>\n",
       "    <tr>\n",
       "      <td>3</td>\n",
       "      <td>0.58</td>\n",
       "      <td>0.44</td>\n",
       "      <td>0.57</td>\n",
       "      <td>0.13</td>\n",
       "      <td>0.5</td>\n",
       "      <td>0.0</td>\n",
       "      <td>0.54</td>\n",
       "      <td>0.22</td>\n",
       "      <td>NUC</td>\n",
       "      <td>2</td>\n",
       "      <td>1</td>\n",
       "      <td>1</td>\n",
       "      <td>2</td>\n",
       "    </tr>\n",
       "    <tr>\n",
       "      <td>4</td>\n",
       "      <td>0.42</td>\n",
       "      <td>0.44</td>\n",
       "      <td>0.48</td>\n",
       "      <td>0.54</td>\n",
       "      <td>0.5</td>\n",
       "      <td>0.0</td>\n",
       "      <td>0.48</td>\n",
       "      <td>0.22</td>\n",
       "      <td>MIT</td>\n",
       "      <td>3</td>\n",
       "      <td>1</td>\n",
       "      <td>1</td>\n",
       "      <td>2</td>\n",
       "    </tr>\n",
       "    <tr>\n",
       "      <td>...</td>\n",
       "      <td>...</td>\n",
       "      <td>...</td>\n",
       "      <td>...</td>\n",
       "      <td>...</td>\n",
       "      <td>...</td>\n",
       "      <td>...</td>\n",
       "      <td>...</td>\n",
       "      <td>...</td>\n",
       "      <td>...</td>\n",
       "      <td>...</td>\n",
       "      <td>...</td>\n",
       "      <td>...</td>\n",
       "      <td>...</td>\n",
       "    </tr>\n",
       "    <tr>\n",
       "      <td>1479</td>\n",
       "      <td>0.81</td>\n",
       "      <td>0.62</td>\n",
       "      <td>0.43</td>\n",
       "      <td>0.17</td>\n",
       "      <td>0.5</td>\n",
       "      <td>0.0</td>\n",
       "      <td>0.53</td>\n",
       "      <td>0.22</td>\n",
       "      <td>ME2</td>\n",
       "      <td>5</td>\n",
       "      <td>1</td>\n",
       "      <td>1</td>\n",
       "      <td>2</td>\n",
       "    </tr>\n",
       "    <tr>\n",
       "      <td>1480</td>\n",
       "      <td>0.47</td>\n",
       "      <td>0.43</td>\n",
       "      <td>0.61</td>\n",
       "      <td>0.40</td>\n",
       "      <td>0.5</td>\n",
       "      <td>0.0</td>\n",
       "      <td>0.48</td>\n",
       "      <td>0.47</td>\n",
       "      <td>NUC</td>\n",
       "      <td>2</td>\n",
       "      <td>1</td>\n",
       "      <td>1</td>\n",
       "      <td>2</td>\n",
       "    </tr>\n",
       "    <tr>\n",
       "      <td>1481</td>\n",
       "      <td>0.67</td>\n",
       "      <td>0.57</td>\n",
       "      <td>0.36</td>\n",
       "      <td>0.19</td>\n",
       "      <td>0.5</td>\n",
       "      <td>0.0</td>\n",
       "      <td>0.56</td>\n",
       "      <td>0.22</td>\n",
       "      <td>ME2</td>\n",
       "      <td>5</td>\n",
       "      <td>1</td>\n",
       "      <td>1</td>\n",
       "      <td>2</td>\n",
       "    </tr>\n",
       "    <tr>\n",
       "      <td>1482</td>\n",
       "      <td>0.43</td>\n",
       "      <td>0.40</td>\n",
       "      <td>0.60</td>\n",
       "      <td>0.16</td>\n",
       "      <td>0.5</td>\n",
       "      <td>0.0</td>\n",
       "      <td>0.53</td>\n",
       "      <td>0.39</td>\n",
       "      <td>NUC</td>\n",
       "      <td>2</td>\n",
       "      <td>1</td>\n",
       "      <td>1</td>\n",
       "      <td>2</td>\n",
       "    </tr>\n",
       "    <tr>\n",
       "      <td>1483</td>\n",
       "      <td>0.65</td>\n",
       "      <td>0.54</td>\n",
       "      <td>0.54</td>\n",
       "      <td>0.13</td>\n",
       "      <td>0.5</td>\n",
       "      <td>0.0</td>\n",
       "      <td>0.53</td>\n",
       "      <td>0.22</td>\n",
       "      <td>CYT</td>\n",
       "      <td>1</td>\n",
       "      <td>1</td>\n",
       "      <td>1</td>\n",
       "      <td>2</td>\n",
       "    </tr>\n",
       "  </tbody>\n",
       "</table>\n",
       "<p>1335 rows × 13 columns</p>\n",
       "</div>"
      ],
      "text/plain": [
       "       mcg   gvh   alm   mit  erl  pox   vac   nuc class  classNum  outlier  \\\n",
       "0     0.58  0.61  0.47  0.13  0.5  0.0  0.48  0.22   MIT         3        1   \n",
       "1     0.43  0.67  0.48  0.27  0.5  0.0  0.53  0.22   MIT         3        1   \n",
       "2     0.64  0.62  0.49  0.15  0.5  0.0  0.53  0.22   MIT         3        1   \n",
       "3     0.58  0.44  0.57  0.13  0.5  0.0  0.54  0.22   NUC         2        1   \n",
       "4     0.42  0.44  0.48  0.54  0.5  0.0  0.48  0.22   MIT         3        1   \n",
       "...    ...   ...   ...   ...  ...  ...   ...   ...   ...       ...      ...   \n",
       "1479  0.81  0.62  0.43  0.17  0.5  0.0  0.53  0.22   ME2         5        1   \n",
       "1480  0.47  0.43  0.61  0.40  0.5  0.0  0.48  0.47   NUC         2        1   \n",
       "1481  0.67  0.57  0.36  0.19  0.5  0.0  0.56  0.22   ME2         5        1   \n",
       "1482  0.43  0.40  0.60  0.16  0.5  0.0  0.53  0.39   NUC         2        1   \n",
       "1483  0.65  0.54  0.54  0.13  0.5  0.0  0.53  0.22   CYT         1        1   \n",
       "\n",
       "      outlier2  outComb  \n",
       "0            1        2  \n",
       "1            1        2  \n",
       "2            1        2  \n",
       "3            1        2  \n",
       "4            1        2  \n",
       "...        ...      ...  \n",
       "1479         1        2  \n",
       "1480         1        2  \n",
       "1481         1        2  \n",
       "1482         1        2  \n",
       "1483         1        2  \n",
       "\n",
       "[1335 rows x 13 columns]"
      ]
     },
     "execution_count": 42,
     "metadata": {},
     "output_type": "execute_result"
    }
   ],
   "source": [
    "#Without outliers from Isolation Forest\n",
    "norm_df"
   ]
  },
  {
   "cell_type": "code",
   "execution_count": null,
   "metadata": {},
   "outputs": [],
   "source": []
  },
  {
   "cell_type": "code",
   "execution_count": 255,
   "metadata": {},
   "outputs": [],
   "source": [
    "class loggingCallback(keras.callbacks.Callback):\n",
    "    def on_train_begin(self, logs={}):\n",
    "        self.biases = []\n",
    "        self.w1 = []\n",
    "        self.w2 = []\n",
    "        self.w3 = []\n",
    "\n",
    "    def on_epoch_end(self, batch, logs={}):\n",
    "        #biases in 1. 0 for CYT class\n",
    "        biases = model.layers[2].get_weights()[1][0]\n",
    "        #this node to 0 in next layer for CYT Class\n",
    "        w1 = model.layers[2].get_weights()[0][0][0]\n",
    "        w2 = model.layers[2].get_weights()[0][1][0]\n",
    "        w3 = model.layers[2].get_weights()[0][2][0]\n",
    "        self.biases.append(biases)\n",
    "        self.w1.append(w1)\n",
    "        self.w2.append(w2)\n",
    "        self.w3.append(w3)\n",
    "my_loggingCallback = loggingCallback()"
   ]
  },
  {
   "cell_type": "code",
   "execution_count": 256,
   "metadata": {},
   "outputs": [],
   "source": [
    "#Get [X,Y] and shuffle\n",
    "X = norm_df.values\n",
    "X = X[:,0:8]\n",
    "Y = norm_df.classNum.values.reshape(len(X),1) \n",
    "Y = Y - 1"
   ]
  },
  {
   "cell_type": "code",
   "execution_count": null,
   "metadata": {},
   "outputs": [],
   "source": []
  },
  {
   "cell_type": "code",
   "execution_count": 257,
   "metadata": {},
   "outputs": [],
   "source": [
    "X_train, X_test, Y_train, Y_test = train_test_split( X, Y, test_size=0.34, random_state=42)"
   ]
  },
  {
   "cell_type": "code",
   "execution_count": null,
   "metadata": {},
   "outputs": [],
   "source": []
  },
  {
   "cell_type": "code",
   "execution_count": 258,
   "metadata": {},
   "outputs": [],
   "source": [
    "def model(): \n",
    "    model = Sequential([\n",
    "        Dense(3, activation='sigmoid', input_shape=(8,), name=\"hidden1\", use_bias=True),\n",
    "        Dense(3, activation='sigmoid', use_bias=True, name=\"hidden2\"),\n",
    "        Dense(10, activation='sigmoid', use_bias=True, name=\"output\"),\n",
    "    ])\n",
    "    sgd = keras.optimizers.SGD(lr=0.01)\n",
    "    model.compile(\n",
    "      optimizer=sgd,\n",
    "      loss='mean_squared_error',\n",
    "      metrics=['accuracy'],\n",
    "    )\n",
    "    return model"
   ]
  },
  {
   "cell_type": "code",
   "execution_count": 259,
   "metadata": {},
   "outputs": [],
   "source": [
    "model = model()\n"
   ]
  },
  {
   "cell_type": "code",
   "execution_count": 260,
   "metadata": {
    "collapsed": true
   },
   "outputs": [
    {
     "name": "stdout",
     "output_type": "stream",
     "text": [
      "Train on 881 samples, validate on 454 samples\n",
      "Epoch 1/100\n",
      "881/881 [==============================] - 2s 2ms/step - loss: 0.2316 - accuracy: 0.0057 - val_loss: 0.1994 - val_accuracy: 0.0000e+00\n",
      "Epoch 2/100\n",
      "881/881 [==============================] - 1s 1ms/step - loss: 0.1765 - accuracy: 0.0057 - val_loss: 0.1568 - val_accuracy: 0.0000e+00\n",
      "Epoch 3/100\n",
      "881/881 [==============================] - 1s 1ms/step - loss: 0.1433 - accuracy: 0.2009 - val_loss: 0.1313 - val_accuracy: 0.3062\n",
      "Epoch 4/100\n",
      "881/881 [==============================] - 1s 1ms/step - loss: 0.1234 - accuracy: 0.2826 - val_loss: 0.1158 - val_accuracy: 0.3062\n",
      "Epoch 5/100\n",
      "881/881 [==============================] - 1s 1ms/step - loss: 0.1110 - accuracy: 0.2826 - val_loss: 0.1060 - val_accuracy: 0.3062\n",
      "Epoch 6/100\n",
      "881/881 [==============================] - 1s 1ms/step - loss: 0.1029 - accuracy: 0.2894 - val_loss: 0.0994 - val_accuracy: 0.3128\n",
      "Epoch 7/100\n",
      "881/881 [==============================] - 1s 2ms/step - loss: 0.0975 - accuracy: 0.3178 - val_loss: 0.0949 - val_accuracy: 0.3128\n",
      "Epoch 8/100\n",
      "881/881 [==============================] - 1s 1ms/step - loss: 0.0937 - accuracy: 0.3178 - val_loss: 0.0916 - val_accuracy: 0.3128\n",
      "Epoch 9/100\n",
      "881/881 [==============================] - 2s 2ms/step - loss: 0.0909 - accuracy: 0.3178 - val_loss: 0.0892 - val_accuracy: 0.3128\n",
      "Epoch 10/100\n",
      "881/881 [==============================] - 1s 2ms/step - loss: 0.0887 - accuracy: 0.3178 - val_loss: 0.0873 - val_accuracy: 0.3128\n",
      "Epoch 11/100\n",
      "881/881 [==============================] - 1s 2ms/step - loss: 0.0871 - accuracy: 0.3178 - val_loss: 0.0859 - val_accuracy: 0.3128\n",
      "Epoch 12/100\n",
      "881/881 [==============================] - 2s 2ms/step - loss: 0.0859 - accuracy: 0.3178 - val_loss: 0.0847 - val_accuracy: 0.3128\n",
      "Epoch 13/100\n",
      "881/881 [==============================] - 1s 1ms/step - loss: 0.0848 - accuracy: 0.3178 - val_loss: 0.0838 - val_accuracy: 0.3128\n",
      "Epoch 14/100\n",
      "881/881 [==============================] - 1s 1ms/step - loss: 0.0840 - accuracy: 0.3178 - val_loss: 0.0831 - val_accuracy: 0.3128\n",
      "Epoch 15/100\n",
      "881/881 [==============================] - 1s 1ms/step - loss: 0.0833 - accuracy: 0.3178 - val_loss: 0.0824 - val_accuracy: 0.3128\n",
      "Epoch 16/100\n",
      "881/881 [==============================] - 2s 2ms/step - loss: 0.0828 - accuracy: 0.3178 - val_loss: 0.0819 - val_accuracy: 0.3128\n",
      "Epoch 17/100\n",
      "881/881 [==============================] - 1s 1ms/step - loss: 0.0823 - accuracy: 0.3178 - val_loss: 0.0814 - val_accuracy: 0.3128\n",
      "Epoch 18/100\n",
      "881/881 [==============================] - 1s 2ms/step - loss: 0.0819 - accuracy: 0.3178 - val_loss: 0.0811 - val_accuracy: 0.3128\n",
      "Epoch 19/100\n",
      "881/881 [==============================] - 1s 2ms/step - loss: 0.0815 - accuracy: 0.3178 - val_loss: 0.0807 - val_accuracy: 0.3128\n",
      "Epoch 20/100\n",
      "881/881 [==============================] - 1s 1ms/step - loss: 0.0812 - accuracy: 0.3178 - val_loss: 0.0804 - val_accuracy: 0.3128\n",
      "Epoch 21/100\n",
      "881/881 [==============================] - 1s 1ms/step - loss: 0.0810 - accuracy: 0.3178 - val_loss: 0.0802 - val_accuracy: 0.3128\n",
      "Epoch 22/100\n",
      "881/881 [==============================] - 1s 1ms/step - loss: 0.0807 - accuracy: 0.3178 - val_loss: 0.0799 - val_accuracy: 0.3128\n",
      "Epoch 23/100\n",
      "881/881 [==============================] - 2s 2ms/step - loss: 0.0805 - accuracy: 0.3178 - val_loss: 0.0797 - val_accuracy: 0.3128\n",
      "Epoch 24/100\n",
      "881/881 [==============================] - 1s 1ms/step - loss: 0.0803 - accuracy: 0.3178 - val_loss: 0.0795 - val_accuracy: 0.3128\n",
      "Epoch 25/100\n",
      "881/881 [==============================] - 1s 1ms/step - loss: 0.0802 - accuracy: 0.3178 - val_loss: 0.0794 - val_accuracy: 0.3128\n",
      "Epoch 26/100\n",
      "881/881 [==============================] - 1s 1ms/step - loss: 0.0800 - accuracy: 0.3178 - val_loss: 0.0792 - val_accuracy: 0.3128\n",
      "Epoch 27/100\n",
      "881/881 [==============================] - 1s 1ms/step - loss: 0.0799 - accuracy: 0.3178 - val_loss: 0.0791 - val_accuracy: 0.3128\n",
      "Epoch 28/100\n",
      "881/881 [==============================] - 1s 1ms/step - loss: 0.0797 - accuracy: 0.3178 - val_loss: 0.0790 - val_accuracy: 0.3128\n",
      "Epoch 29/100\n",
      "881/881 [==============================] - 1s 2ms/step - loss: 0.0796 - accuracy: 0.3178 - val_loss: 0.0789 - val_accuracy: 0.3128\n",
      "Epoch 30/100\n",
      "881/881 [==============================] - 2s 2ms/step - loss: 0.0795 - accuracy: 0.3178 - val_loss: 0.0788 - val_accuracy: 0.3128\n",
      "Epoch 31/100\n",
      "881/881 [==============================] - 2s 2ms/step - loss: 0.0794 - accuracy: 0.3178 - val_loss: 0.0787 - val_accuracy: 0.3128\n",
      "Epoch 32/100\n",
      "881/881 [==============================] - 1s 1ms/step - loss: 0.0794 - accuracy: 0.3178 - val_loss: 0.0786 - val_accuracy: 0.3128\n",
      "Epoch 33/100\n",
      "881/881 [==============================] - 1s 1ms/step - loss: 0.0793 - accuracy: 0.3178 - val_loss: 0.0785 - val_accuracy: 0.3128\n",
      "Epoch 34/100\n",
      "881/881 [==============================] - 1s 1ms/step - loss: 0.0792 - accuracy: 0.3178 - val_loss: 0.0784 - val_accuracy: 0.3128\n",
      "Epoch 35/100\n",
      "881/881 [==============================] - 1s 1ms/step - loss: 0.0791 - accuracy: 0.3178 - val_loss: 0.0784 - val_accuracy: 0.3128\n",
      "Epoch 36/100\n",
      "881/881 [==============================] - 1s 2ms/step - loss: 0.0791 - accuracy: 0.3178 - val_loss: 0.0783 - val_accuracy: 0.3128\n",
      "Epoch 37/100\n",
      "881/881 [==============================] - 2s 2ms/step - loss: 0.0790 - accuracy: 0.3178 - val_loss: 0.0782 - val_accuracy: 0.3128\n",
      "Epoch 38/100\n",
      "881/881 [==============================] - 1s 1ms/step - loss: 0.0790 - accuracy: 0.3178 - val_loss: 0.0782 - val_accuracy: 0.3128\n",
      "Epoch 39/100\n",
      "881/881 [==============================] - 1s 1ms/step - loss: 0.0789 - accuracy: 0.3178 - val_loss: 0.0781 - val_accuracy: 0.3128\n",
      "Epoch 40/100\n",
      "881/881 [==============================] - 1s 1ms/step - loss: 0.0789 - accuracy: 0.3178 - val_loss: 0.0781 - val_accuracy: 0.3128\n",
      "Epoch 41/100\n",
      "881/881 [==============================] - 1s 1ms/step - loss: 0.0788 - accuracy: 0.3178 - val_loss: 0.0780 - val_accuracy: 0.3128\n",
      "Epoch 42/100\n",
      "881/881 [==============================] - 1s 1ms/step - loss: 0.0788 - accuracy: 0.3178 - val_loss: 0.0780 - val_accuracy: 0.3128\n",
      "Epoch 43/100\n",
      "881/881 [==============================] - 1s 1ms/step - loss: 0.0787 - accuracy: 0.3178 - val_loss: 0.0780 - val_accuracy: 0.3128\n",
      "Epoch 44/100\n",
      "881/881 [==============================] - 1s 1ms/step - loss: 0.0787 - accuracy: 0.3178 - val_loss: 0.0779 - val_accuracy: 0.3128\n",
      "Epoch 45/100\n",
      "881/881 [==============================] - 1s 1ms/step - loss: 0.0787 - accuracy: 0.3178 - val_loss: 0.0779 - val_accuracy: 0.3128\n",
      "Epoch 46/100\n",
      "881/881 [==============================] - 1s 1ms/step - loss: 0.0786 - accuracy: 0.3178 - val_loss: 0.0779 - val_accuracy: 0.3128\n",
      "Epoch 47/100\n",
      "881/881 [==============================] - 1s 1ms/step - loss: 0.0786 - accuracy: 0.3178 - val_loss: 0.0778 - val_accuracy: 0.3128\n",
      "Epoch 48/100\n",
      "881/881 [==============================] - 1s 1ms/step - loss: 0.0786 - accuracy: 0.3178 - val_loss: 0.0778 - val_accuracy: 0.3128\n",
      "Epoch 49/100\n",
      "881/881 [==============================] - 1s 1ms/step - loss: 0.0785 - accuracy: 0.3178 - val_loss: 0.0778 - val_accuracy: 0.3128\n",
      "Epoch 50/100\n",
      "881/881 [==============================] - 1s 1ms/step - loss: 0.0785 - accuracy: 0.3178 - val_loss: 0.0777 - val_accuracy: 0.3128\n",
      "Epoch 51/100\n",
      "881/881 [==============================] - 1s 1ms/step - loss: 0.0785 - accuracy: 0.3178 - val_loss: 0.0777 - val_accuracy: 0.3128\n",
      "Epoch 52/100\n",
      "881/881 [==============================] - 1s 1ms/step - loss: 0.0785 - accuracy: 0.3178 - val_loss: 0.0777 - val_accuracy: 0.3128\n",
      "Epoch 53/100\n",
      "881/881 [==============================] - 1s 1ms/step - loss: 0.0784 - accuracy: 0.3178 - val_loss: 0.0777 - val_accuracy: 0.3128\n",
      "Epoch 54/100\n",
      "881/881 [==============================] - 1s 1ms/step - loss: 0.0784 - accuracy: 0.3178 - val_loss: 0.0776 - val_accuracy: 0.3128\n",
      "Epoch 55/100\n",
      "881/881 [==============================] - 1s 1ms/step - loss: 0.0784 - accuracy: 0.3178 - val_loss: 0.0776 - val_accuracy: 0.3128\n",
      "Epoch 56/100\n",
      "881/881 [==============================] - 1s 1ms/step - loss: 0.0784 - accuracy: 0.3178 - val_loss: 0.0776 - val_accuracy: 0.3128\n",
      "Epoch 57/100\n"
     ]
    },
    {
     "name": "stdout",
     "output_type": "stream",
     "text": [
      "881/881 [==============================] - 1s 2ms/step - loss: 0.0784 - accuracy: 0.3178 - val_loss: 0.0776 - val_accuracy: 0.3128\n",
      "Epoch 58/100\n",
      "881/881 [==============================] - 1s 1ms/step - loss: 0.0784 - accuracy: 0.3178 - val_loss: 0.0776 - val_accuracy: 0.3128\n",
      "Epoch 59/100\n",
      "881/881 [==============================] - 1s 1ms/step - loss: 0.0783 - accuracy: 0.3178 - val_loss: 0.0775 - val_accuracy: 0.3128\n",
      "Epoch 60/100\n",
      "881/881 [==============================] - 1s 1ms/step - loss: 0.0783 - accuracy: 0.3178 - val_loss: 0.0775 - val_accuracy: 0.3128\n",
      "Epoch 61/100\n",
      "881/881 [==============================] - 1s 1ms/step - loss: 0.0783 - accuracy: 0.3178 - val_loss: 0.0775 - val_accuracy: 0.3128\n",
      "Epoch 62/100\n",
      "881/881 [==============================] - 1s 1ms/step - loss: 0.0783 - accuracy: 0.3178 - val_loss: 0.0775 - val_accuracy: 0.3128\n",
      "Epoch 63/100\n",
      "881/881 [==============================] - 1s 1ms/step - loss: 0.0783 - accuracy: 0.3178 - val_loss: 0.0775 - val_accuracy: 0.3128\n",
      "Epoch 64/100\n",
      "881/881 [==============================] - 1s 1ms/step - loss: 0.0783 - accuracy: 0.3178 - val_loss: 0.0775 - val_accuracy: 0.3128\n",
      "Epoch 65/100\n",
      "881/881 [==============================] - 1s 1ms/step - loss: 0.0782 - accuracy: 0.3178 - val_loss: 0.0774 - val_accuracy: 0.3128\n",
      "Epoch 66/100\n",
      "881/881 [==============================] - 1s 1ms/step - loss: 0.0782 - accuracy: 0.3178 - val_loss: 0.0774 - val_accuracy: 0.3128\n",
      "Epoch 67/100\n",
      "881/881 [==============================] - 1s 1ms/step - loss: 0.0782 - accuracy: 0.3178 - val_loss: 0.0774 - val_accuracy: 0.3128\n",
      "Epoch 68/100\n",
      "881/881 [==============================] - 1s 1ms/step - loss: 0.0782 - accuracy: 0.3178 - val_loss: 0.0774 - val_accuracy: 0.3128\n",
      "Epoch 69/100\n",
      "881/881 [==============================] - 1s 1ms/step - loss: 0.0782 - accuracy: 0.3178 - val_loss: 0.0774 - val_accuracy: 0.3128\n",
      "Epoch 70/100\n",
      "881/881 [==============================] - 1s 1ms/step - loss: 0.0782 - accuracy: 0.3178 - val_loss: 0.0774 - val_accuracy: 0.3128\n",
      "Epoch 71/100\n",
      "881/881 [==============================] - 1s 1ms/step - loss: 0.0782 - accuracy: 0.3178 - val_loss: 0.0774 - val_accuracy: 0.3128\n",
      "Epoch 72/100\n",
      "881/881 [==============================] - 1s 1ms/step - loss: 0.0782 - accuracy: 0.3178 - val_loss: 0.0774 - val_accuracy: 0.3128\n",
      "Epoch 73/100\n",
      "881/881 [==============================] - 1s 1ms/step - loss: 0.0782 - accuracy: 0.3178 - val_loss: 0.0773 - val_accuracy: 0.3128\n",
      "Epoch 74/100\n",
      "881/881 [==============================] - 1s 1ms/step - loss: 0.0781 - accuracy: 0.3178 - val_loss: 0.0773 - val_accuracy: 0.3128\n",
      "Epoch 75/100\n",
      "881/881 [==============================] - 1s 1ms/step - loss: 0.0781 - accuracy: 0.3178 - val_loss: 0.0773 - val_accuracy: 0.3128\n",
      "Epoch 76/100\n",
      "881/881 [==============================] - 1s 1ms/step - loss: 0.0781 - accuracy: 0.3178 - val_loss: 0.0773 - val_accuracy: 0.3128\n",
      "Epoch 77/100\n",
      "881/881 [==============================] - 1s 2ms/step - loss: 0.0781 - accuracy: 0.3178 - val_loss: 0.0773 - val_accuracy: 0.3128\n",
      "Epoch 78/100\n",
      "881/881 [==============================] - 1s 1ms/step - loss: 0.0781 - accuracy: 0.3178 - val_loss: 0.0773 - val_accuracy: 0.3128\n",
      "Epoch 79/100\n",
      "881/881 [==============================] - 1s 2ms/step - loss: 0.0781 - accuracy: 0.3178 - val_loss: 0.0773 - val_accuracy: 0.3128\n",
      "Epoch 80/100\n",
      "881/881 [==============================] - 1s 2ms/step - loss: 0.0781 - accuracy: 0.3178 - val_loss: 0.0773 - val_accuracy: 0.3128\n",
      "Epoch 81/100\n",
      "881/881 [==============================] - 1s 2ms/step - loss: 0.0781 - accuracy: 0.3178 - val_loss: 0.0773 - val_accuracy: 0.3128\n",
      "Epoch 82/100\n",
      "881/881 [==============================] - 1s 1ms/step - loss: 0.0781 - accuracy: 0.3178 - val_loss: 0.0773 - val_accuracy: 0.3128\n",
      "Epoch 83/100\n",
      "881/881 [==============================] - 1s 1ms/step - loss: 0.0781 - accuracy: 0.3178 - val_loss: 0.0773 - val_accuracy: 0.3128\n",
      "Epoch 84/100\n",
      "881/881 [==============================] - 1s 1ms/step - loss: 0.0781 - accuracy: 0.3178 - val_loss: 0.0773 - val_accuracy: 0.3128\n",
      "Epoch 85/100\n",
      "881/881 [==============================] - 1s 1ms/step - loss: 0.0781 - accuracy: 0.3178 - val_loss: 0.0772 - val_accuracy: 0.3128\n",
      "Epoch 86/100\n",
      "881/881 [==============================] - 1s 1ms/step - loss: 0.0781 - accuracy: 0.3178 - val_loss: 0.0772 - val_accuracy: 0.3128\n",
      "Epoch 87/100\n",
      "881/881 [==============================] - 1s 1ms/step - loss: 0.0780 - accuracy: 0.3178 - val_loss: 0.0772 - val_accuracy: 0.3128\n",
      "Epoch 88/100\n",
      "881/881 [==============================] - 1s 1ms/step - loss: 0.0780 - accuracy: 0.3178 - val_loss: 0.0772 - val_accuracy: 0.3128\n",
      "Epoch 89/100\n",
      "881/881 [==============================] - 1s 1ms/step - loss: 0.0780 - accuracy: 0.3178 - val_loss: 0.0772 - val_accuracy: 0.3128\n",
      "Epoch 90/100\n",
      "881/881 [==============================] - 1s 1ms/step - loss: 0.0780 - accuracy: 0.3178 - val_loss: 0.0772 - val_accuracy: 0.3128\n",
      "Epoch 91/100\n",
      "881/881 [==============================] - 1s 1ms/step - loss: 0.0780 - accuracy: 0.3178 - val_loss: 0.0772 - val_accuracy: 0.3128\n",
      "Epoch 92/100\n",
      "881/881 [==============================] - 1s 1ms/step - loss: 0.0780 - accuracy: 0.3178 - val_loss: 0.0772 - val_accuracy: 0.3128\n",
      "Epoch 93/100\n",
      "881/881 [==============================] - 1s 1ms/step - loss: 0.0780 - accuracy: 0.3178 - val_loss: 0.0772 - val_accuracy: 0.3128\n",
      "Epoch 94/100\n",
      "881/881 [==============================] - 1s 1ms/step - loss: 0.0780 - accuracy: 0.3178 - val_loss: 0.0772 - val_accuracy: 0.3128\n",
      "Epoch 95/100\n",
      "881/881 [==============================] - 1s 1ms/step - loss: 0.0780 - accuracy: 0.3178 - val_loss: 0.0772 - val_accuracy: 0.3128\n",
      "Epoch 96/100\n",
      "881/881 [==============================] - 1s 1ms/step - loss: 0.0780 - accuracy: 0.3178 - val_loss: 0.0772 - val_accuracy: 0.3128\n",
      "Epoch 97/100\n",
      "881/881 [==============================] - 1s 1ms/step - loss: 0.0780 - accuracy: 0.3178 - val_loss: 0.0772 - val_accuracy: 0.3128\n",
      "Epoch 98/100\n",
      "881/881 [==============================] - 1s 1ms/step - loss: 0.0780 - accuracy: 0.3178 - val_loss: 0.0772 - val_accuracy: 0.3128\n",
      "Epoch 99/100\n",
      "881/881 [==============================] - 1s 1ms/step - loss: 0.0780 - accuracy: 0.3178 - val_loss: 0.0772 - val_accuracy: 0.3128\n",
      "Epoch 100/100\n",
      "881/881 [==============================] - 1s 1ms/step - loss: 0.0780 - accuracy: 0.3178 - val_loss: 0.0772 - val_accuracy: 0.3128\n"
     ]
    }
   ],
   "source": [
    "history = model.fit(\n",
    "    x=X_train,\n",
    "    y=to_categorical(Y_train, num_classes= 10),\n",
    "    epochs=100,\n",
    "    batch_size=1,\n",
    "    validation_split=0,\n",
    "    validation_data=(X_test,to_categorical(Y_test, num_classes= 10)),\n",
    "    verbose=1,\n",
    "    callbacks=[my_loggingCallback]\n",
    ")"
   ]
  },
  {
   "cell_type": "code",
   "execution_count": 261,
   "metadata": {},
   "outputs": [
    {
     "name": "stdout",
     "output_type": "stream",
     "text": [
      "454/454 [==============================] - 0s 45us/step\n"
     ]
    },
    {
     "data": {
      "text/plain": [
       "[0.07715357347732073, 0.3127753436565399]"
      ]
     },
     "execution_count": 261,
     "metadata": {},
     "output_type": "execute_result"
    }
   ],
   "source": [
    "model.evaluate(\n",
    "  X_test,\n",
    "  to_categorical(Y_test,num_classes= 10)\n",
    ")"
   ]
  },
  {
   "cell_type": "code",
   "execution_count": 262,
   "metadata": {},
   "outputs": [
    {
     "data": {
      "image/png": "[encoded data removed]",
      "text/plain": [
       "<Figure size 432x288 with 1 Axes>"
      ]
     },
     "metadata": {
      "needs_background": "light"
     },
     "output_type": "display_data"
    }
   ],
   "source": [
    "#From keras website\n",
    "# PLOT Training and test loss per epoch\n",
    "plt.plot(history.history['loss'])\n",
    "plt.plot(history.history['val_loss'])\n",
    "plt.title('Loss vs. Epoch')\n",
    "plt.ylabel('Loss')\n",
    "plt.xlabel('Epoch')\n",
    "plt.legend(['Train', 'Test'], loc='upper left')\n",
    "plt.show()"
   ]
  },
  {
   "cell_type": "code",
   "execution_count": 263,
   "metadata": {},
   "outputs": [],
   "source": [
    "#PLOT train and test accuracy \n",
    "error = 1 - np.array(history.history['accuracy'])\n",
    "error_train = np.reshape(error, [len(error),1])\n",
    "error2 = 1 - np.array(history.history['val_accuracy'])\n",
    "error_test = np.reshape(error2, [len(error2),1])"
   ]
  },
  {
   "cell_type": "code",
   "execution_count": 264,
   "metadata": {},
   "outputs": [
    {
     "data": {
      "image/png": "[encoded data removed]",
      "text/plain": [
       "<Figure size 432x288 with 1 Axes>"
      ]
     },
     "metadata": {
      "needs_background": "light"
     },
     "output_type": "display_data"
    }
   ],
   "source": [
    "plt.plot(error_train)\n",
    "plt.plot(error_test)\n",
    "plt.title('Error vs. Epoch')\n",
    "plt.ylabel('Error')\n",
    "plt.xlabel('Epoch')\n",
    "plt.legend(['Train', 'Test'], loc='upper left')\n",
    "plt.show()"
   ]
  },
  {
   "cell_type": "code",
   "execution_count": 265,
   "metadata": {},
   "outputs": [
    {
     "data": {
      "image/png": "[encoded data removed]",
      "text/plain": [
       "<Figure size 432x288 with 1 Axes>"
      ]
     },
     "metadata": {
      "needs_background": "light"
     },
     "output_type": "display_data"
    }
   ],
   "source": [
    "#PLOT weights done \n",
    "bias_label, = plt.plot(my_loggingCallback.biases, label='bias')\n",
    "w1_label, = plt.plot(my_loggingCallback.w1, label='w1')\n",
    "w2_label, = plt.plot(my_loggingCallback.w2, label='w2')\n",
    "w3_label, = plt.plot(my_loggingCallback.w3, label='w3')\n",
    "plt.title('Weights vs. Epoch')\n",
    "plt.xlabel('epoch')\n",
    "plt.ylabel('value')\n",
    "plt.legend(handles=[bias_label, w1_label, w2_label, w3_label])\n",
    "plt.show()"
   ]
  },
  {
   "cell_type": "code",
   "execution_count": 266,
   "metadata": {},
   "outputs": [
    {
     "name": "stdout",
     "output_type": "stream",
     "text": [
      "1335/1335 [==============================] - 0s 32us/step\n"
     ]
    },
    {
     "data": {
      "text/plain": [
       "0.6838951408863068"
      ]
     },
     "execution_count": 266,
     "metadata": {},
     "output_type": "execute_result"
    }
   ],
   "source": [
    "result = model.evaluate(\n",
    "  X,\n",
    "  to_categorical(Y,num_classes= 10)\n",
    ")\n",
    "\n",
    "error = 1 - result[1]\n",
    "error"
   ]
  },
  {
   "cell_type": "code",
   "execution_count": null,
   "metadata": {},
   "outputs": [],
   "source": []
  },
  {
   "cell_type": "code",
   "execution_count": 267,
   "metadata": {},
   "outputs": [
    {
     "data": {
      "text/plain": [
       "array([-0.23665552,  0.380919  , -0.6231389 , -0.2108461 , -0.30237216,\n",
       "       -0.1833936 , -1.1238273 , -0.3967098 , -0.84122074, -0.6561288 ],\n",
       "      dtype=float32)"
      ]
     },
     "execution_count": 267,
     "metadata": {},
     "output_type": "execute_result"
    }
   ],
   "source": [
    "model.layers[2].get_weights()[0][2]"
   ]
  },
  {
   "cell_type": "code",
   "execution_count": 268,
   "metadata": {},
   "outputs": [
    {
     "data": {
      "text/plain": [
       "{'name': 'hidden1',\n",
       " 'trainable': True,\n",
       " 'batch_input_shape': (None, 8),\n",
       " 'dtype': 'float32',\n",
       " 'units': 3,\n",
       " 'activation': 'sigmoid',\n",
       " 'use_bias': True,\n",
       " 'kernel_initializer': {'class_name': 'VarianceScaling',\n",
       "  'config': {'scale': 1.0,\n",
       "   'mode': 'fan_avg',\n",
       "   'distribution': 'uniform',\n",
       "   'seed': None}},\n",
       " 'bias_initializer': {'class_name': 'Zeros', 'config': {}},\n",
       " 'kernel_regularizer': None,\n",
       " 'bias_regularizer': None,\n",
       " 'activity_regularizer': None,\n",
       " 'kernel_constraint': None,\n",
       " 'bias_constraint': None}"
      ]
     },
     "execution_count": 268,
     "metadata": {},
     "output_type": "execute_result"
    }
   ],
   "source": [
    "model.layers[0].get_config()"
   ]
  },
  {
   "cell_type": "code",
   "execution_count": 269,
   "metadata": {},
   "outputs": [
    {
     "data": {
      "text/plain": [
       "(3, 10)"
      ]
     },
     "execution_count": 269,
     "metadata": {},
     "output_type": "execute_result"
    }
   ],
   "source": [
    "model.layers[2].get_weights()[0].shape"
   ]
  },
  {
   "cell_type": "code",
   "execution_count": 270,
   "metadata": {},
   "outputs": [
    {
     "data": {
      "text/plain": [
       "(100,)"
      ]
     },
     "execution_count": 270,
     "metadata": {},
     "output_type": "execute_result"
    }
   ],
   "source": [
    "np.array(my_loggingCallback.w3).shape"
   ]
  },
  {
   "cell_type": "code",
   "execution_count": null,
   "metadata": {},
   "outputs": [],
   "source": []
  }
 ],
 "metadata": {
  "kernelspec": {
   "display_name": "Python 3",
   "language": "python",
   "name": "python3"
  },
  "language_info": {
   "codemirror_mode": {
    "name": "ipython",
    "version": 3
   },
   "file_extension": ".py",
   "mimetype": "text/x-python",
   "name": "python",
   "nbconvert_exporter": "python",
   "pygments_lexer": "ipython3",
   "version": "3.7.4"
  }
 },
 "nbformat": 4,
 "nbformat_minor": 2
}
