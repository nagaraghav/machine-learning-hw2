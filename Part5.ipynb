{
 "cells": [
  {
   "cell_type": "code",
   "execution_count": 1,
   "metadata": {},
   "outputs": [
    {
     "name": "stderr",
     "output_type": "stream",
     "text": [
      "Using TensorFlow backend.\n"
     ]
    }
   ],
   "source": [
    "import numpy as np\n",
    "import pandas as  pd \n",
    "import matplotlib.pyplot as plt\n",
    "import import_ipynb\n",
    "from keras.models import Sequential\n",
    "from keras.layers import Dense\n",
    "from sklearn.model_selection import train_test_split\n",
    "from keras.utils import to_categorical\n",
    "from keras.layers import Dense, Dropout\n",
    "import keras"
   ]
  },
  {
   "cell_type": "code",
   "execution_count": 2,
   "metadata": {},
   "outputs": [
    {
     "name": "stdout",
     "output_type": "stream",
     "text": [
      "importing Jupyter notebook from Part1.ipynb\n"
     ]
    }
   ],
   "source": [
    "import Part1\n",
    "from Part1 import df"
   ]
  },
  {
   "cell_type": "code",
   "execution_count": 3,
   "metadata": {},
   "outputs": [],
   "source": [
    "df_copy = df.drop([\"class\", \"outlier\", \"outlier2\", \"outComb\"],axis=1)\n",
    "total = df_copy.values\n",
    "np.random.shuffle(total)\n",
    "Y_all = total[:,8]\n",
    "X_all = total[:,0:8]\n",
    "Y_all = np.reshape(Y_all, (1484,1))\n",
    "Y_all = Y_all -1\n"
   ]
  },
  {
   "cell_type": "code",
   "execution_count": 46,
   "metadata": {},
   "outputs": [],
   "source": [
    "def train_model(num_layers, num_nodes):\n",
    "\n",
    "    model = Sequential()\n",
    "    #First Hidden Layer\n",
    "    model.add(Dense(num_nodes, activation='sigmoid', input_dim=8, use_bias=True)) \n",
    "\n",
    "    \n",
    "    for i in range(num_layers - 1):\n",
    "        model.add(Dense(num_nodes, activation='sigmoid', use_bias=True))\n",
    "        \n",
    "    model.add(Dense(10, activation='sigmoid', use_bias=True))\n",
    "    sgd = keras.optimizers.SGD(lr=0.01)\n",
    "    model.compile(\n",
    "      optimizer=sgd,\n",
    "      loss='mean_squared_error',\n",
    "      metrics=['accuracy'],\n",
    "    )\n",
    "\n",
    "    return model"
   ]
  },
  {
   "cell_type": "code",
   "execution_count": 47,
   "metadata": {},
   "outputs": [],
   "source": [
    "def compute_grid(layers,nodes):\n",
    "    for i in layers:\n",
    "        for j in nodes:\n",
    "            model = train_model(i,j)\n",
    "            history = model.fit(x=X_all,\n",
    "                                y=to_categorical(Y_all, num_classes= 10),\n",
    "                                epochs=300,validation_split=0,\n",
    "                                batch_size=50,\n",
    "                                verbose=0,shuffle=0,\n",
    "                                validation_data=(X_all,\n",
    "                                                 to_categorical(Y_all, num_classes= 10)),)\n",
    "            result = model.evaluate(X_all,to_categorical(Y_all,num_classes= 10))\n",
    "            error = 1-result[1]\n",
    "            print(\"Testing error %f hidden layers and nodes %f is %f\" %(i,j,error*100))\n",
    "            \n",
    "            "
   ]
  },
  {
   "cell_type": "code",
   "execution_count": 48,
   "metadata": {
    "collapsed": true
   },
   "outputs": [
    {
     "name": "stdout",
     "output_type": "stream",
     "text": [
      "1484/1484 [==============================] - 0s 51us/step\n",
      "Testing error 1.000000 hidden layers and nodes 3.000000 is 71.159029\n",
      "1484/1484 [==============================] - 0s 22us/step\n",
      "Testing error 1.000000 hidden layers and nodes 6.000000 is 68.800539\n",
      "1484/1484 [==============================] - 0s 24us/step\n",
      "Testing error 1.000000 hidden layers and nodes 9.000000 is 68.733153\n",
      "1484/1484 [==============================] - 0s 26us/step\n",
      "Testing error 1.000000 hidden layers and nodes 12.000000 is 67.722371\n",
      "1484/1484 [==============================] - 0s 29us/step\n",
      "Testing error 2.000000 hidden layers and nodes 3.000000 is 68.800539\n",
      "1484/1484 [==============================] - 0s 92us/step\n",
      "Testing error 2.000000 hidden layers and nodes 6.000000 is 68.800539\n",
      "1484/1484 [==============================] - 0s 21us/step\n",
      "Testing error 2.000000 hidden layers and nodes 9.000000 is 68.800539\n",
      "1484/1484 [==============================] - 0s 23us/step\n",
      "Testing error 2.000000 hidden layers and nodes 12.000000 is 68.800539\n",
      "1484/1484 [==============================] - 0s 27us/step\n",
      "Testing error 3.000000 hidden layers and nodes 3.000000 is 68.800539\n",
      "1484/1484 [==============================] - 0s 52us/step\n",
      "Testing error 3.000000 hidden layers and nodes 6.000000 is 68.800539\n",
      "1484/1484 [==============================] - 0s 16us/step\n",
      "Testing error 3.000000 hidden layers and nodes 9.000000 is 68.800539\n",
      "1484/1484 [==============================] - 0s 19us/step\n",
      "Testing error 3.000000 hidden layers and nodes 12.000000 is 68.800539\n"
     ]
    }
   ],
   "source": [
    "layers = [1,2,3]\n",
    "nodes = [3,6,9,12]\n",
    "compute_grid(layers,nodes)"
   ]
  },
  {
   "cell_type": "code",
   "execution_count": null,
   "metadata": {},
   "outputs": [],
   "source": []
  },
  {
   "cell_type": "code",
   "execution_count": 71,
   "metadata": {},
   "outputs": [
    {
     "name": "stdout",
     "output_type": "stream",
     "text": [
      "[6]\n"
     ]
    }
   ],
   "source": [
    "#PART 6\n",
    "model6 = train_model(1, 12)\n",
    "\n",
    "input = np.array([[0.52, 0.47, 0.52, 0.23, 0.55, 0.03, 0.52, 0.39]])\n",
    "print(model6.predict_classes(input))\n"
   ]
  },
  {
   "cell_type": "code",
   "execution_count": null,
   "metadata": {},
   "outputs": [],
   "source": []
  },
  {
   "cell_type": "code",
   "execution_count": null,
   "metadata": {},
   "outputs": [],
   "source": []
  }
 ],
 "metadata": {
  "kernelspec": {
   "display_name": "Python 3",
   "language": "python",
   "name": "python3"
  },
  "language_info": {
   "codemirror_mode": {
    "name": "ipython",
    "version": 3
   },
   "file_extension": ".py",
   "mimetype": "text/x-python",
   "name": "python",
   "nbconvert_exporter": "python",
   "pygments_lexer": "ipython3",
   "version": "3.7.4"
  }
 },
 "nbformat": 4,
 "nbformat_minor": 2
}
